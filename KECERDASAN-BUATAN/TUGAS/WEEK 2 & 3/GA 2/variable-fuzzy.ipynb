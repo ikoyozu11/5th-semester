{
 "cells": [
  {
   "cell_type": "code",
   "execution_count": 35,
   "metadata": {},
   "outputs": [],
   "source": [
    "import numpy as np\n",
    "import skfuzzy as fuzz\n",
    "from skfuzzy import control as ctrl\n",
    "from sklearn.metrics import mean_squared_error\n",
    "import random"
   ]
  },
  {
   "cell_type": "code",
   "execution_count": 36,
   "metadata": {},
   "outputs": [],
   "source": [
    "# Mendefinisikan data berdasarkan tabel yang ada di ppt minggu 04 slide 101\n",
    "data = {\n",
    "    'Suhu': [20, 25, 16, 15, 27, 12, 19, 28, 35, 20],\n",
    "    'Kelembaban': [16, 12, 30, 14, 10, 19, 12, 8, 6, 17],\n",
    "    'Durasi': [55.7, 59.3, 5.6, 30.1, 43.4, 18.6, 22.1, 47.3, 76.4, 20.9]\n",
    "}"
   ]
  },
  {
   "cell_type": "code",
   "execution_count": 37,
   "metadata": {},
   "outputs": [],
   "source": [
    "# Membagi data train\n",
    "# Data dibagi menjadi train (8 data pertama) dan test (2 data terakhir)\n",
    "indeks_train = list(range(8))\n",
    "indeks_uji = list(range(8, 10))\n",
    "\n",
    "X_latih = np.array([[data['Suhu'][i], data['Kelembaban'][i]] for i in indeks_train])\n",
    "y_latih = np.array([data['Durasi'][i] for i in indeks_train])\n",
    "\n",
    "X_uji = np.array([[data['Suhu'][i], data['Kelembaban'][i]] for i in indeks_uji])\n",
    "y_uji = np.array([data['Durasi'][i] for i in indeks_uji])"
   ]
  },
  {
   "cell_type": "code",
   "execution_count": 38,
   "metadata": {},
   "outputs": [],
   "source": [
    "# Fungsi untuk inisialisasi individu (perbaikan)\n",
    "def inisialisasi_individu():\n",
    "    # Inisialisasi individu dengan nilai acak untuk parameter fuzzy, dan pastikan urutan a <= b <= c\n",
    "    suhu_rendah = sorted([random.uniform(0, 20), random.uniform(10, 20), random.uniform(15, 30)])\n",
    "    suhu_sedang = sorted([random.uniform(15, 25), random.uniform(20, 30), random.uniform(25, 35)])\n",
    "    suhu_tinggi = sorted([random.uniform(25, 40), random.uniform(30, 40), random.uniform(35, 50)])\n",
    "    \n",
    "    kelembaban_rendah = sorted([random.uniform(0, 20), random.uniform(10, 30), random.uniform(20, 40)])\n",
    "    kelembaban_sedang = sorted([random.uniform(20, 40), random.uniform(30, 50), random.uniform(40, 60)])\n",
    "    kelembaban_tinggi = sorted([random.uniform(40, 60), random.uniform(50, 80), random.uniform(60, 100)])\n",
    "    \n",
    "    durasi_pendek = sorted([random.uniform(0, 25), random.uniform(10, 35), random.uniform(25, 50)])\n",
    "    durasi_panjang = sorted([random.uniform(50, 75), random.uniform(60, 80), random.uniform(75, 100)])\n",
    "    \n",
    "    return (suhu_rendah, suhu_sedang, suhu_tinggi, kelembaban_rendah, kelembaban_sedang, kelembaban_tinggi, durasi_pendek, durasi_panjang)\n"
   ]
  },
  {
   "cell_type": "code",
   "execution_count": 39,
   "metadata": {},
   "outputs": [],
   "source": [
    "def buat_sistem_fuzzy(param):\n",
    "    # Unpack the params for fuzzy membership functions\n",
    "    (suhu_rendah, suhu_sedang, suhu_tinggi, kelembaban_rendah, kelembaban_sedang, kelembaban_tinggi, durasi_pendek, durasi_panjang) = param\n",
    "    \n",
    "    # Definisikan variabel fuzzy\n",
    "    suhu = ctrl.Antecedent(np.arange(0, 41, 1), 'suhu')\n",
    "    kelembaban = ctrl.Antecedent(np.arange(0, 101, 1), 'kelembaban')\n",
    "    durasi = ctrl.Consequent(np.arange(0, 100, 1), 'durasi')\n",
    "\n",
    "    # Fungsi keanggotaan untuk suhu\n",
    "    suhu['rendah'] = fuzz.trimf(suhu.universe, suhu_rendah)\n",
    "    suhu['sedang'] = fuzz.trimf(suhu.universe, suhu_sedang)\n",
    "    suhu['tinggi'] = fuzz.trimf(suhu.universe, suhu_tinggi)\n",
    "    \n",
    "    # Fungsi keanggotaan untuk kelembaban\n",
    "    kelembaban['rendah'] = fuzz.trimf(kelembaban.universe, kelembaban_rendah)\n",
    "    kelembaban['sedang'] = fuzz.trimf(kelembaban.universe, kelembaban_sedang)\n",
    "    kelembaban['tinggi'] = fuzz.trimf(kelembaban.universe, kelembaban_tinggi)\n",
    "    \n",
    "    # Fungsi keanggotaan untuk durasi\n",
    "    durasi['pendek'] = fuzz.trimf(durasi.universe, durasi_pendek)\n",
    "    durasi['panjang'] = fuzz.trimf(durasi.universe, durasi_panjang)\n",
    "\n",
    "    # Definisikan aturan fuzzy\n",
    "    aturan1 = ctrl.Rule(suhu['rendah'] & kelembaban['rendah'], durasi['panjang'])\n",
    "    aturan2 = ctrl.Rule(suhu['sedang'] & kelembaban['sedang'], durasi['pendek'])\n",
    "    aturan3 = ctrl.Rule(suhu['tinggi'] & kelembaban['tinggi'], durasi['pendek'])\n",
    "\n",
    "    # Membangun sistem kontrol\n",
    "    durasi_ctrl = ctrl.ControlSystem([aturan1, aturan2, aturan3])\n",
    "    simulasi_durasi = ctrl.ControlSystemSimulation(durasi_ctrl)\n",
    "    \n",
    "    return simulasi_durasi"
   ]
  },
  {
   "cell_type": "code",
   "execution_count": 40,
   "metadata": {},
   "outputs": [],
   "source": [
    "# Fungsi evaluasi\n",
    "def evaluasi_fitness(individu):\n",
    "    simulasi = buat_sistem_fuzzy(individu)\n",
    "    prediksi = []\n",
    "    \n",
    "    for data_titik in X_latih:\n",
    "        nilai_suhu, nilai_kelembaban = data_titik\n",
    "        simulasi.input['suhu'] = nilai_suhu\n",
    "        simulasi.input['kelembaban'] = nilai_kelembaban\n",
    "        simulasi.compute()\n",
    "        \n",
    "        # Memastikan key 'durasi' ada di output\n",
    "        prediksi.append(simulasi.output['durasi'])  # Pastikan 'durasi' konsisten\n",
    "    \n",
    "    error = mean_squared_error(y_latih, prediksi)\n",
    "    return 1 / (error + 1e-6)  # Inverse of error for fitness"
   ]
  },
  {
   "cell_type": "code",
   "execution_count": 41,
   "metadata": {},
   "outputs": [],
   "source": [
    "# Algoritma Genetika (GA)\n",
    "def algoritma_genetika():\n",
    "    ukuran_populasi = 20\n",
    "    generasi = 100\n",
    "    laju_mutasi = 0.1\n",
    "    laju_persilangan = 0.7\n",
    "    populasi = [inisialisasi_individu() for _ in range(ukuran_populasi)]\n",
    "    \n",
    "    for gen in range(generasi):\n",
    "        # Evaluasi fitness\n",
    "        nilai_fitness = [evaluasi_fitness(individu) for individu in populasi]\n",
    "        \n",
    "        # Seleksi\n",
    "        terpilih = seleksi(populasi, nilai_fitness)\n",
    "        \n",
    "        # Persilangan (crossover)\n",
    "        populasi_baru = []\n",
    "        for i in range(0, ukuran_populasi, 2):\n",
    "            induk1 = terpilih[i]\n",
    "            induk2 = terpilih[i+1]\n",
    "            anak1, anak2 = persilangan(induk1, induk2)\n",
    "            populasi_baru.extend([anak1, anak2])\n",
    "        \n",
    "        # Mutasi\n",
    "        for i in range(ukuran_populasi):\n",
    "            if random.random() < laju_mutasi:\n",
    "                populasi_baru[i] = mutasi(populasi_baru[i])\n",
    "        \n",
    "        populasi = populasi_baru\n",
    "    \n",
    "    individu_terbaik = max(populasi, key=evaluasi_fitness)\n",
    "    return individu_terbaik"
   ]
  },
  {
   "cell_type": "code",
   "execution_count": 42,
   "metadata": {},
   "outputs": [],
   "source": [
    "# Fungsi Evaluasi Fitness\n",
    "def evaluasi_fitness(individu):\n",
    "    simulasi = buat_sistem_fuzzy(individu)\n",
    "    prediksi = []\n",
    "    \n",
    "    for data_titik in X_latih:\n",
    "        nilai_suhu, nilai_kelembaban = data_titik\n",
    "        simulasi.input['suhu'] = nilai_suhu\n",
    "        simulasi.input['kelembaban'] = nilai_kelembaban\n",
    "        simulasi.compute()\n",
    "        prediksi.append(simulasi.output['durasi'])\n",
    "    \n",
    "    error = mean_squared_error(y_latih, prediksi)\n",
    "    return 1 / (error + 1e-6)  # Menggunakan inverse dari error sebagai nilai fitness"
   ]
  },
  {
   "cell_type": "code",
   "execution_count": 43,
   "metadata": {},
   "outputs": [
    {
     "ename": "KeyError",
     "evalue": "'durasi'",
     "output_type": "error",
     "traceback": [
      "\u001b[1;31m---------------------------------------------------------------------------\u001b[0m",
      "\u001b[1;31mKeyError\u001b[0m                                  Traceback (most recent call last)",
      "Cell \u001b[1;32mIn[43], line 2\u001b[0m\n\u001b[0;32m      1\u001b[0m \u001b[38;5;66;03m# Eksekusi utama\u001b[39;00m\n\u001b[1;32m----> 2\u001b[0m param_sistem_fuzzy_terbaik \u001b[38;5;241m=\u001b[39m \u001b[43malgoritma_genetika\u001b[49m\u001b[43m(\u001b[49m\u001b[43m)\u001b[49m\n",
      "Cell \u001b[1;32mIn[41], line 11\u001b[0m, in \u001b[0;36malgoritma_genetika\u001b[1;34m()\u001b[0m\n\u001b[0;32m      7\u001b[0m populasi \u001b[38;5;241m=\u001b[39m [inisialisasi_individu() \u001b[38;5;28;01mfor\u001b[39;00m _ \u001b[38;5;129;01min\u001b[39;00m \u001b[38;5;28mrange\u001b[39m(ukuran_populasi)]\n\u001b[0;32m      9\u001b[0m \u001b[38;5;28;01mfor\u001b[39;00m gen \u001b[38;5;129;01min\u001b[39;00m \u001b[38;5;28mrange\u001b[39m(generasi):\n\u001b[0;32m     10\u001b[0m     \u001b[38;5;66;03m# Evaluasi fitness\u001b[39;00m\n\u001b[1;32m---> 11\u001b[0m     nilai_fitness \u001b[38;5;241m=\u001b[39m [\u001b[43mevaluasi_fitness\u001b[49m\u001b[43m(\u001b[49m\u001b[43mindividu\u001b[49m\u001b[43m)\u001b[49m \u001b[38;5;28;01mfor\u001b[39;00m individu \u001b[38;5;129;01min\u001b[39;00m populasi]\n\u001b[0;32m     13\u001b[0m     \u001b[38;5;66;03m# Seleksi\u001b[39;00m\n\u001b[0;32m     14\u001b[0m     terpilih \u001b[38;5;241m=\u001b[39m seleksi(populasi, nilai_fitness)\n",
      "Cell \u001b[1;32mIn[42], line 11\u001b[0m, in \u001b[0;36mevaluasi_fitness\u001b[1;34m(individu)\u001b[0m\n\u001b[0;32m      9\u001b[0m     simulasi\u001b[38;5;241m.\u001b[39minput[\u001b[38;5;124m'\u001b[39m\u001b[38;5;124mkelembaban\u001b[39m\u001b[38;5;124m'\u001b[39m] \u001b[38;5;241m=\u001b[39m nilai_kelembaban\n\u001b[0;32m     10\u001b[0m     simulasi\u001b[38;5;241m.\u001b[39mcompute()\n\u001b[1;32m---> 11\u001b[0m     prediksi\u001b[38;5;241m.\u001b[39mappend(\u001b[43msimulasi\u001b[49m\u001b[38;5;241;43m.\u001b[39;49m\u001b[43moutput\u001b[49m\u001b[43m[\u001b[49m\u001b[38;5;124;43m'\u001b[39;49m\u001b[38;5;124;43mdurasi\u001b[39;49m\u001b[38;5;124;43m'\u001b[39;49m\u001b[43m]\u001b[49m)\n\u001b[0;32m     13\u001b[0m error \u001b[38;5;241m=\u001b[39m mean_squared_error(y_latih, prediksi)\n\u001b[0;32m     14\u001b[0m \u001b[38;5;28;01mreturn\u001b[39;00m \u001b[38;5;241m1\u001b[39m \u001b[38;5;241m/\u001b[39m (error \u001b[38;5;241m+\u001b[39m \u001b[38;5;241m1e-6\u001b[39m)\n",
      "\u001b[1;31mKeyError\u001b[0m: 'durasi'"
     ]
    }
   ],
   "source": [
    "# Eksekusi utama\n",
    "param_sistem_fuzzy_terbaik = algoritma_genetika()"
   ]
  }
 ],
 "metadata": {
  "kernelspec": {
   "display_name": "Python 3",
   "language": "python",
   "name": "python3"
  },
  "language_info": {
   "codemirror_mode": {
    "name": "ipython",
    "version": 3
   },
   "file_extension": ".py",
   "mimetype": "text/x-python",
   "name": "python",
   "nbconvert_exporter": "python",
   "pygments_lexer": "ipython3",
   "version": "3.12.2"
  }
 },
 "nbformat": 4,
 "nbformat_minor": 2
}
